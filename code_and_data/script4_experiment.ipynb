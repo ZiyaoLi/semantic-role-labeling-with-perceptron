{
 "cells": [
  {
   "cell_type": "code",
   "execution_count": 2,
   "metadata": {},
   "outputs": [
    {
     "name": "stdout",
     "output_type": "stream",
     "text": [
      "Import successfully.\n"
     ]
    }
   ],
   "source": [
    "import codecs\n",
    "import numpy as np\n",
    "import random\n",
    "from sklearn import metrics as ms\n",
    "from perceptron import Perceptron"
   ]
  },
  {
   "cell_type": "code",
   "execution_count": 3,
   "metadata": {
    "collapsed": true
   },
   "outputs": [],
   "source": [
    "def read_data(s):\n",
    "    f = codecs.open(s + '.features', 'r', 'utf-8')\n",
    "    feas = [[s.strip().split('\\t') for s in t.strip().split('\\n')] for t in f.read().strip().split('\\n\\n')]\n",
    "    for i in range(len(feas)):\n",
    "        if not i % 1000:\n",
    "            print(i)\n",
    "        for j in range(len(feas[i])):\n",
    "            for k in range(len(feas[i][j])):\n",
    "                feas[i][j][k] = eval(feas[i][j][k])\n",
    "    f.close()\n",
    "    f = codecs.open(s + '.pos', 'r', 'utf-8')\n",
    "    pos = [eval(t) for t in f.read().strip().split('\\n')]\n",
    "    f.close()\n",
    "    labs = None\n",
    "    if not s == 'test':\n",
    "        f = codecs.open(s + '.labels', 'r', 'utf-8')\n",
    "        labs = [[eval(r) for r in t.strip().split('\\n')] for t in f.read().strip().split('\\n\\n')]\n",
    "        f.close()\n",
    "    return feas, pos, labs\n",
    "\n",
    "def read_aux(s):\n",
    "    f = codecs.open(s + '.props', 'r', 'utf-8')\n",
    "    preds = [[s.strip().split('\\t')[0] for s in t.strip().split('\\n')] for t in f.read().strip().split('\\n\\n')]\n",
    "    f.close()\n",
    "    f = codecs.open(s + '.sampleIds', 'r', 'utf-8')\n",
    "    sampleIds = eval(f.read())\n",
    "    f.close()\n",
    "    return preds, sampleIds"
   ]
  },
  {
   "cell_type": "code",
   "execution_count": 4,
   "metadata": {
    "collapsed": true
   },
   "outputs": [],
   "source": [
    "def labs2conll(bioes, wordList, sampleIds, outFile):\n",
    "    p = 0\n",
    "    f = codecs.open(outFile, 'w', 'utf-8')\n",
    "    for i, words in enumerate(wordList):\n",
    "        while sampleIds[p] < i:\n",
    "            p += 1\n",
    "        sampleOut = [[w] for w in words]\n",
    "        currCol = 0\n",
    "        while p < len(bioes) and sampleIds[p] == i:\n",
    "            currCol += 1\n",
    "            prevStat = 'O'\n",
    "            prevLab = 'O'\n",
    "            nLeft = 0\n",
    "            nRight = 0\n",
    "            for j, comb in enumerate(bioes[p]):\n",
    "                \n",
    "                if comb == 'O':\n",
    "                    sampleOut[j] += ['*']\n",
    "                    if prevStat == 'B':\n",
    "                        sampleOut[j - 1][currCol] = '(%s*%s)' % (prevLab, prevLab)\n",
    "                    elif prevStat == 'I':\n",
    "                        sampleOut[j - 1][currCol] = '*)'\n",
    "                    prevStat = 'O'\n",
    "                    continue\n",
    "                \n",
    "                stat = re.findall(\"(.)-.*\", comb)[0]\n",
    "                lab = re.findall(\".-(.*)\", comb)[0]\n",
    "                \n",
    "                if j == len(bioes[p]) - 1:\n",
    "                    if stat == 'B': \n",
    "                        stat = 'S'\n",
    "                    elif stat == 'I':\n",
    "                        stat = 'E'\n",
    "                \n",
    "                if stat in ('I', 'E'):\n",
    "                    if prevStat == 'S':\n",
    "                        sampleOut[j - 1][currCol] = '(%s*' % (prevLab)\n",
    "                    elif prevStat in ('O', 'E'):\n",
    "                        stat = 'B'\n",
    "                \n",
    "                if stat in ('B', 'S'):\n",
    "                    if prevStat == 'B': \n",
    "                        sampleOut[j - 1][currCol] = '(%s*%s)' % (prevLab, prevLab)\n",
    "                    elif prevStat == 'I':\n",
    "                        sampleOut[j - 1][currCol] = '*)'\n",
    "                \n",
    "                if stat == 'I':\n",
    "                    sampleOut[j] += ['*']\n",
    "                elif stat == 'B':\n",
    "                    sampleOut[j] += ['(%s*' % lab]\n",
    "                    nLeft += 1\n",
    "                elif stat == 'E':\n",
    "                    sampleOut[j] += ['*)']\n",
    "                    nRight += 1\n",
    "                else:\n",
    "                    sampleOut[j] += ['(%s*%s)' % (lab, lab)]\n",
    "                \n",
    "                prevStat = stat\n",
    "                prevLab = lab\n",
    "            if nLeft != nRight:  # Exceptions in prediction\n",
    "                print(p)\n",
    "            p += 1\n",
    "        stringOut = '\\n'.join(['\\t'.join(t) for t in sampleOut])\n",
    "        if stringOut.count('(') != stringOut.count(')'):\n",
    "            print(stringOut)  # Check out exceptions\n",
    "        f.write(stringOut)\n",
    "        f.write('\\n\\n')\n",
    "    f.close()"
   ]
  },
  {
   "cell_type": "code",
   "execution_count": 5,
   "metadata": {
    "collapsed": true
   },
   "outputs": [],
   "source": [
    "f = codecs.open('labelID_rev.dict')\n",
    "label_dict = eval(f.read())\n",
    "f.close()\n",
    "model = Perceptron(434878, 26, 26, labelDict=label_dict)"
   ]
  },
  {
   "cell_type": "code",
   "execution_count": 148,
   "metadata": {},
   "outputs": [
    {
     "name": "stdout",
     "output_type": "stream",
     "text": [
      "Iter    1: Accuracy=0.9845 -  1089346/ 1106544\n",
      "Iter    2: Accuracy=0.9860 -  1091003/ 1106544\n",
      "Iter    3: Accuracy=0.9873 -  1092467/ 1106544\n",
      "Iter    4: Accuracy=0.9916 -  1097226/ 1106544\n",
      "Iter    5: Accuracy=0.9912 -  1096779/ 1106544\n",
      "Iter    6: Accuracy=0.9925 -  1098235/ 1106544\n",
      "Iter    7: Accuracy=0.9935 -  1099364/ 1106544\n",
      "Iter    8: Accuracy=0.9920 -  1097693/ 1106544\n",
      "Iter    9: Accuracy=0.9919 -  1097636/ 1106544\n",
      "Iter   10: Accuracy=0.9921 -  1097766/ 1106544\n",
      "Iter   11: Accuracy=0.9941 -  1100041/ 1106544\n",
      "Iter   12: Accuracy=0.9927 -  1098481/ 1106544\n",
      "Iter   13: Accuracy=0.9949 -  1100894/ 1106544\n",
      "Iter   14: Accuracy=0.9942 -  1100151/ 1106544\n",
      "Iter   15: Accuracy=0.9926 -  1098334/ 1106544\n",
      "Iter   16: Accuracy=0.9948 -  1100750/ 1106544\n",
      "Iter   17: Accuracy=0.9948 -  1100740/ 1106544\n",
      "Iter   18: Accuracy=0.9961 -  1102267/ 1106544\n",
      "Iter   19: Accuracy=0.9967 -  1102941/ 1106544\n",
      "Iter   20: Accuracy=0.9980 -  1104352/ 1106544\n",
      "Iter   21: Accuracy=0.9983 -  1104715/ 1106544\n",
      "Iter   22: Accuracy=0.9982 -  1104533/ 1106544\n",
      "Iter   23: Accuracy=0.9986 -  1104954/ 1106544\n",
      "Iter   24: Accuracy=0.9987 -  1105135/ 1106544\n",
      "Iter   25: Accuracy=0.9995 -  1106030/ 1106544\n",
      "Iter   26: Accuracy=0.9992 -  1105615/ 1106544\n",
      "Iter   27: Accuracy=0.9992 -  1105638/ 1106544\n",
      "Iter   28: Accuracy=0.9992 -  1105641/ 1106544\n",
      "Iter   29: Accuracy=0.9989 -  1105286/ 1106544\n",
      "Iter   30: Accuracy=0.9995 -  1105967/ 1106544\n",
      "Algorithm ends after 30 iterations. Evaluating results on training set:\n"
     ]
    },
    {
     "ename": "KeyboardInterrupt",
     "evalue": "",
     "output_type": "error",
     "traceback": [
      "\u001b[1;31m---------------------------------------------------------------------------\u001b[0m",
      "\u001b[1;31mKeyboardInterrupt\u001b[0m                         Traceback (most recent call last)",
      "\u001b[1;32m<ipython-input-148-1ea57b5fdd57>\u001b[0m in \u001b[0;36m<module>\u001b[1;34m()\u001b[0m\n\u001b[1;32m----> 1\u001b[1;33m \u001b[0mmodel\u001b[0m\u001b[1;33m.\u001b[0m\u001b[0mtrain\u001b[0m\u001b[1;33m(\u001b[0m\u001b[0mtrn_feas\u001b[0m\u001b[1;33m,\u001b[0m \u001b[0mtrn_labs\u001b[0m\u001b[1;33m,\u001b[0m \u001b[0mtrn_pos\u001b[0m\u001b[1;33m,\u001b[0m \u001b[1;36m30\u001b[0m\u001b[1;33m,\u001b[0m \u001b[0mshuffle\u001b[0m\u001b[1;33m=\u001b[0m\u001b[1;32mTrue\u001b[0m\u001b[1;33m)\u001b[0m\u001b[1;33m\u001b[0m\u001b[0m\n\u001b[0m",
      "\u001b[1;32m<ipython-input-68-172a1fdbb0b6>\u001b[0m in \u001b[0;36mtrain\u001b[1;34m(self, feas, labs, posPredicates, maxIter, shuffle, alphaFunc, confMatFile, average)\u001b[0m\n\u001b[0;32m     65\u001b[0m             \u001b[0mprint\u001b[0m\u001b[1;33m(\u001b[0m\u001b[1;34m\"Algorithm ends after %d iterations. Evaluating results on training set:\"\u001b[0m \u001b[1;33m%\u001b[0m \u001b[0mmaxIter\u001b[0m\u001b[1;33m)\u001b[0m\u001b[1;33m\u001b[0m\u001b[0m\n\u001b[0;32m     66\u001b[0m \u001b[1;33m\u001b[0m\u001b[0m\n\u001b[1;32m---> 67\u001b[1;33m         \u001b[0mself\u001b[0m\u001b[1;33m.\u001b[0m\u001b[0meval\u001b[0m\u001b[1;33m(\u001b[0m\u001b[0mfeas\u001b[0m\u001b[1;33m,\u001b[0m \u001b[0mlabs\u001b[0m\u001b[1;33m,\u001b[0m \u001b[0mposPredicates\u001b[0m\u001b[1;33m,\u001b[0m \u001b[0mconfMatFile\u001b[0m\u001b[1;33m=\u001b[0m\u001b[0mconfMatFile\u001b[0m\u001b[1;33m)\u001b[0m\u001b[1;33m\u001b[0m\u001b[0m\n\u001b[0m\u001b[0;32m     68\u001b[0m \u001b[1;33m\u001b[0m\u001b[0m\n\u001b[0;32m     69\u001b[0m     \u001b[1;32mdef\u001b[0m \u001b[0meval\u001b[0m\u001b[1;33m(\u001b[0m\u001b[0mself\u001b[0m\u001b[1;33m,\u001b[0m \u001b[0mfeas\u001b[0m\u001b[1;33m,\u001b[0m \u001b[0mlabs\u001b[0m\u001b[1;33m,\u001b[0m \u001b[0mposPredicates\u001b[0m\u001b[1;33m,\u001b[0m \u001b[0mconfMatFile\u001b[0m\u001b[1;33m=\u001b[0m\u001b[1;32mNone\u001b[0m\u001b[1;33m)\u001b[0m\u001b[1;33m:\u001b[0m\u001b[1;33m\u001b[0m\u001b[0m\n",
      "\u001b[1;32m<ipython-input-68-172a1fdbb0b6>\u001b[0m in \u001b[0;36meval\u001b[1;34m(self, feas, labs, posPredicates, confMatFile)\u001b[0m\n\u001b[0;32m     72\u001b[0m         \u001b[1;32mfor\u001b[0m \u001b[0mns\u001b[0m \u001b[1;32min\u001b[0m \u001b[0mrange\u001b[0m\u001b[1;33m(\u001b[0m\u001b[0mlen\u001b[0m\u001b[1;33m(\u001b[0m\u001b[0mlabs\u001b[0m\u001b[1;33m)\u001b[0m\u001b[1;33m)\u001b[0m\u001b[1;33m:\u001b[0m\u001b[1;33m\u001b[0m\u001b[0m\n\u001b[0;32m     73\u001b[0m             \u001b[0mgoldAllLabs\u001b[0m \u001b[1;33m+=\u001b[0m \u001b[0mlabs\u001b[0m\u001b[1;33m[\u001b[0m\u001b[0mns\u001b[0m\u001b[1;33m]\u001b[0m\u001b[1;33m\u001b[0m\u001b[0m\n\u001b[1;32m---> 74\u001b[1;33m             \u001b[0mpredAllLabs\u001b[0m \u001b[1;33m+=\u001b[0m \u001b[0mself\u001b[0m\u001b[1;33m.\u001b[0m\u001b[0m_viterbi\u001b[0m\u001b[1;33m(\u001b[0m\u001b[0mfeas\u001b[0m\u001b[1;33m[\u001b[0m\u001b[0mns\u001b[0m\u001b[1;33m]\u001b[0m\u001b[1;33m,\u001b[0m \u001b[0mposPredicates\u001b[0m\u001b[1;33m[\u001b[0m\u001b[0mns\u001b[0m\u001b[1;33m]\u001b[0m\u001b[1;33m)\u001b[0m\u001b[1;33m\u001b[0m\u001b[0m\n\u001b[0m\u001b[0;32m     75\u001b[0m         \u001b[0mself\u001b[0m\u001b[1;33m.\u001b[0m\u001b[0m_showResult\u001b[0m\u001b[1;33m(\u001b[0m\u001b[0mgoldAllLabs\u001b[0m\u001b[1;33m,\u001b[0m \u001b[0mpredAllLabs\u001b[0m\u001b[1;33m,\u001b[0m \u001b[0mconfMatFile\u001b[0m\u001b[1;33m)\u001b[0m\u001b[1;33m\u001b[0m\u001b[0m\n\u001b[0;32m     76\u001b[0m \u001b[1;33m\u001b[0m\u001b[0m\n",
      "\u001b[1;32m<ipython-input-68-172a1fdbb0b6>\u001b[0m in \u001b[0;36m_viterbi\u001b[1;34m(self, sampleFeas, posPredicate)\u001b[0m\n\u001b[0;32m     98\u001b[0m             \u001b[1;32melse\u001b[0m\u001b[1;33m:\u001b[0m\u001b[1;33m\u001b[0m\u001b[0m\n\u001b[0;32m     99\u001b[0m                 \u001b[1;32mfor\u001b[0m \u001b[0mlab\u001b[0m \u001b[1;32min\u001b[0m \u001b[0mrange\u001b[0m\u001b[1;33m(\u001b[0m\u001b[0mself\u001b[0m\u001b[1;33m.\u001b[0m\u001b[0mmaxLabel\u001b[0m\u001b[1;33m)\u001b[0m\u001b[1;33m:\u001b[0m\u001b[1;33m\u001b[0m\u001b[0m\n\u001b[1;32m--> 100\u001b[1;33m                     \u001b[0muniValue\u001b[0m \u001b[1;33m=\u001b[0m \u001b[0msum\u001b[0m\u001b[1;33m(\u001b[0m\u001b[0mself\u001b[0m\u001b[1;33m.\u001b[0m\u001b[0muniWeights\u001b[0m\u001b[1;33m[\u001b[0m\u001b[0mcurrFea\u001b[0m\u001b[1;33m,\u001b[0m \u001b[0mlab\u001b[0m\u001b[1;33m]\u001b[0m\u001b[1;33m)\u001b[0m\u001b[1;33m\u001b[0m\u001b[0m\n\u001b[0m\u001b[0;32m    101\u001b[0m                     \u001b[0mbiValue\u001b[0m \u001b[1;33m=\u001b[0m \u001b[1;33m-\u001b[0m\u001b[0mnp\u001b[0m\u001b[1;33m.\u001b[0m\u001b[0minf\u001b[0m\u001b[1;33m\u001b[0m\u001b[0m\n\u001b[0;32m    102\u001b[0m                     \u001b[0mprevMax\u001b[0m \u001b[1;33m=\u001b[0m \u001b[1;36m0\u001b[0m\u001b[1;33m\u001b[0m\u001b[0m\n",
      "\u001b[1;31mKeyboardInterrupt\u001b[0m: "
     ]
    }
   ],
   "source": [
    "trn_feas, trn_pos, trn_labs = read_data('trn')\n",
    "model.train(trn_feas, trn_labs, trn_pos, 50, shuffle=True)\n",
    "model.save('50epochs')"
   ]
  },
  {
   "cell_type": "code",
   "execution_count": null,
   "metadata": {
    "collapsed": true
   },
   "outputs": [],
   "source": [
    "dev_feas, dev_pos, dev_labs = read_data('dev')\n",
    "dev_props, dev_sids =read_aux('dev')\n",
    "model.eval(dev_feas, dev_labs, dev_pos, confMatFile='dev.confuse')\n",
    "dev_predLabs = model.predict(dev_feas, dev_pos, names=True)\n",
    "labs2conll(dev_predLabs, dev_props, dev_sids, 'dev.pred')"
   ]
  },
  {
   "cell_type": "code",
   "execution_count": 6,
   "metadata": {},
   "outputs": [
    {
     "name": "stdout",
     "output_type": "stream",
     "text": [
      "0\n",
      "1000\n"
     ]
    },
    {
     "ename": "FileNotFoundError",
     "evalue": "[Errno 2] No such file or directory: 'test.sampleIds'",
     "output_type": "error",
     "traceback": [
      "\u001b[1;31m---------------------------------------------------------------------------\u001b[0m",
      "\u001b[1;31mFileNotFoundError\u001b[0m                         Traceback (most recent call last)",
      "\u001b[1;32m<ipython-input-6-9de59af5c069>\u001b[0m in \u001b[0;36m<module>\u001b[1;34m()\u001b[0m\n\u001b[0;32m      1\u001b[0m \u001b[0mtest_feas\u001b[0m\u001b[1;33m,\u001b[0m \u001b[0mtest_pos\u001b[0m\u001b[1;33m,\u001b[0m \u001b[0mtest_labs\u001b[0m \u001b[1;33m=\u001b[0m \u001b[0mread_data\u001b[0m\u001b[1;33m(\u001b[0m\u001b[1;34m'test'\u001b[0m\u001b[1;33m)\u001b[0m\u001b[1;33m\u001b[0m\u001b[0m\n\u001b[1;32m----> 2\u001b[1;33m \u001b[0mtest_props\u001b[0m\u001b[1;33m,\u001b[0m \u001b[0mtest_sids\u001b[0m \u001b[1;33m=\u001b[0m\u001b[0mread_aux\u001b[0m\u001b[1;33m(\u001b[0m\u001b[1;34m'test'\u001b[0m\u001b[1;33m)\u001b[0m\u001b[1;33m\u001b[0m\u001b[0m\n\u001b[0m\u001b[0;32m      3\u001b[0m \u001b[0mtest_predLabs\u001b[0m \u001b[1;33m=\u001b[0m \u001b[0mmodel\u001b[0m\u001b[1;33m.\u001b[0m\u001b[0mpredict\u001b[0m\u001b[1;33m(\u001b[0m\u001b[0mtest_feas\u001b[0m\u001b[1;33m,\u001b[0m \u001b[0mtest_pos\u001b[0m\u001b[1;33m,\u001b[0m \u001b[0mnames\u001b[0m\u001b[1;33m=\u001b[0m\u001b[1;32mTrue\u001b[0m\u001b[1;33m)\u001b[0m\u001b[1;33m\u001b[0m\u001b[0m\n\u001b[0;32m      4\u001b[0m \u001b[0mlabs2conll\u001b[0m\u001b[1;33m(\u001b[0m\u001b[0mtest_predLabs\u001b[0m\u001b[1;33m,\u001b[0m \u001b[0mtest_props\u001b[0m\u001b[1;33m,\u001b[0m \u001b[0mtest_sids\u001b[0m\u001b[1;33m,\u001b[0m \u001b[1;34m'test.pred'\u001b[0m\u001b[1;33m)\u001b[0m\u001b[1;33m\u001b[0m\u001b[0m\n",
      "\u001b[1;32m<ipython-input-3-749d3fdf20cf>\u001b[0m in \u001b[0;36mread_aux\u001b[1;34m(s)\u001b[0m\n\u001b[0;32m     23\u001b[0m     \u001b[0mpreds\u001b[0m \u001b[1;33m=\u001b[0m \u001b[1;33m[\u001b[0m\u001b[1;33m[\u001b[0m\u001b[0ms\u001b[0m\u001b[1;33m.\u001b[0m\u001b[0mstrip\u001b[0m\u001b[1;33m(\u001b[0m\u001b[1;33m)\u001b[0m\u001b[1;33m.\u001b[0m\u001b[0msplit\u001b[0m\u001b[1;33m(\u001b[0m\u001b[1;34m'\\t'\u001b[0m\u001b[1;33m)\u001b[0m\u001b[1;33m[\u001b[0m\u001b[1;36m0\u001b[0m\u001b[1;33m]\u001b[0m \u001b[1;32mfor\u001b[0m \u001b[0ms\u001b[0m \u001b[1;32min\u001b[0m \u001b[0mt\u001b[0m\u001b[1;33m.\u001b[0m\u001b[0mstrip\u001b[0m\u001b[1;33m(\u001b[0m\u001b[1;33m)\u001b[0m\u001b[1;33m.\u001b[0m\u001b[0msplit\u001b[0m\u001b[1;33m(\u001b[0m\u001b[1;34m'\\n'\u001b[0m\u001b[1;33m)\u001b[0m\u001b[1;33m]\u001b[0m \u001b[1;32mfor\u001b[0m \u001b[0mt\u001b[0m \u001b[1;32min\u001b[0m \u001b[0mf\u001b[0m\u001b[1;33m.\u001b[0m\u001b[0mread\u001b[0m\u001b[1;33m(\u001b[0m\u001b[1;33m)\u001b[0m\u001b[1;33m.\u001b[0m\u001b[0mstrip\u001b[0m\u001b[1;33m(\u001b[0m\u001b[1;33m)\u001b[0m\u001b[1;33m.\u001b[0m\u001b[0msplit\u001b[0m\u001b[1;33m(\u001b[0m\u001b[1;34m'\\n\\n'\u001b[0m\u001b[1;33m)\u001b[0m\u001b[1;33m]\u001b[0m\u001b[1;33m\u001b[0m\u001b[0m\n\u001b[0;32m     24\u001b[0m     \u001b[0mf\u001b[0m\u001b[1;33m.\u001b[0m\u001b[0mclose\u001b[0m\u001b[1;33m(\u001b[0m\u001b[1;33m)\u001b[0m\u001b[1;33m\u001b[0m\u001b[0m\n\u001b[1;32m---> 25\u001b[1;33m     \u001b[0mf\u001b[0m \u001b[1;33m=\u001b[0m \u001b[0mcodecs\u001b[0m\u001b[1;33m.\u001b[0m\u001b[0mopen\u001b[0m\u001b[1;33m(\u001b[0m\u001b[0ms\u001b[0m \u001b[1;33m+\u001b[0m \u001b[1;34m'.sampleIds'\u001b[0m\u001b[1;33m,\u001b[0m \u001b[1;34m'r'\u001b[0m\u001b[1;33m,\u001b[0m \u001b[1;34m'utf-8'\u001b[0m\u001b[1;33m)\u001b[0m\u001b[1;33m\u001b[0m\u001b[0m\n\u001b[0m\u001b[0;32m     26\u001b[0m     \u001b[0msampleIds\u001b[0m \u001b[1;33m=\u001b[0m \u001b[0meval\u001b[0m\u001b[1;33m(\u001b[0m\u001b[0mf\u001b[0m\u001b[1;33m.\u001b[0m\u001b[0mread\u001b[0m\u001b[1;33m(\u001b[0m\u001b[1;33m)\u001b[0m\u001b[1;33m)\u001b[0m\u001b[1;33m\u001b[0m\u001b[0m\n\u001b[0;32m     27\u001b[0m     \u001b[0mf\u001b[0m\u001b[1;33m.\u001b[0m\u001b[0mclose\u001b[0m\u001b[1;33m(\u001b[0m\u001b[1;33m)\u001b[0m\u001b[1;33m\u001b[0m\u001b[0m\n",
      "\u001b[1;32m~\\Anaconda3\\lib\\codecs.py\u001b[0m in \u001b[0;36mopen\u001b[1;34m(filename, mode, encoding, errors, buffering)\u001b[0m\n\u001b[0;32m    893\u001b[0m         \u001b[1;31m# Force opening of the file in binary mode\u001b[0m\u001b[1;33m\u001b[0m\u001b[1;33m\u001b[0m\u001b[0m\n\u001b[0;32m    894\u001b[0m         \u001b[0mmode\u001b[0m \u001b[1;33m=\u001b[0m \u001b[0mmode\u001b[0m \u001b[1;33m+\u001b[0m \u001b[1;34m'b'\u001b[0m\u001b[1;33m\u001b[0m\u001b[0m\n\u001b[1;32m--> 895\u001b[1;33m     \u001b[0mfile\u001b[0m \u001b[1;33m=\u001b[0m \u001b[0mbuiltins\u001b[0m\u001b[1;33m.\u001b[0m\u001b[0mopen\u001b[0m\u001b[1;33m(\u001b[0m\u001b[0mfilename\u001b[0m\u001b[1;33m,\u001b[0m \u001b[0mmode\u001b[0m\u001b[1;33m,\u001b[0m \u001b[0mbuffering\u001b[0m\u001b[1;33m)\u001b[0m\u001b[1;33m\u001b[0m\u001b[0m\n\u001b[0m\u001b[0;32m    896\u001b[0m     \u001b[1;32mif\u001b[0m \u001b[0mencoding\u001b[0m \u001b[1;32mis\u001b[0m \u001b[1;32mNone\u001b[0m\u001b[1;33m:\u001b[0m\u001b[1;33m\u001b[0m\u001b[0m\n\u001b[0;32m    897\u001b[0m         \u001b[1;32mreturn\u001b[0m \u001b[0mfile\u001b[0m\u001b[1;33m\u001b[0m\u001b[0m\n",
      "\u001b[1;31mFileNotFoundError\u001b[0m: [Errno 2] No such file or directory: 'test.sampleIds'"
     ]
    }
   ],
   "source": [
    "test_feas, test_pos, test_labs = read_data('test')\n",
    "test_props, test_sids =read_aux('test')\n",
    "test_predLabs = model.predict(test_feas, test_pos, names=True)\n",
    "labs2conll(test_predLabs, test_props, test_sids, 'test.pred')"
   ]
  },
  {
   "cell_type": "code",
   "execution_count": null,
   "metadata": {
    "collapsed": true
   },
   "outputs": [],
   "source": []
  }
 ],
 "metadata": {
  "kernelspec": {
   "display_name": "Python 3",
   "language": "python",
   "name": "python3"
  },
  "language_info": {
   "codemirror_mode": {
    "name": "ipython",
    "version": 3
   },
   "file_extension": ".py",
   "mimetype": "text/x-python",
   "name": "python",
   "nbconvert_exporter": "python",
   "pygments_lexer": "ipython3",
   "version": "3.6.3"
  }
 },
 "nbformat": 4,
 "nbformat_minor": 2
}
