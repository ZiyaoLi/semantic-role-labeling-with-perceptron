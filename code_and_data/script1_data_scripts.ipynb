{
 "cells": [
  {
   "cell_type": "code",
   "execution_count": 1,
   "metadata": {
    "collapsed": true
   },
   "outputs": [],
   "source": [
    "import codecs\n",
    "import re"
   ]
  },
  {
   "cell_type": "markdown",
   "metadata": {},
   "source": [
    "#### Below codes merge .props and .text into a .mg file"
   ]
  },
  {
   "cell_type": "code",
   "execution_count": 2,
   "metadata": {
    "collapsed": true
   },
   "outputs": [],
   "source": [
    "import codecs\n",
    "\n",
    "f1 = codecs.open(\"test.text\", 'r', 'utf-8')\n",
    "f2 = codecs.open(\"test.props\", 'r', 'utf-8')\n",
    "sout = ''\n",
    "s1 = f1.read().split('\\n')\n",
    "s2 = f2.read().split('\\n')\n",
    "f1.close()\n",
    "f2.close()\n",
    "for i in range(len(s1)):\n",
    "    if s1[i] == '':\n",
    "        sout += '\\n'\n",
    "        continue\n",
    "    t1 = s1[i].split('\\t')\n",
    "    t2 = s2[i].split('\\t')\n",
    "    sout += ('\\t'.join(t1 + t2) + '\\n')\n",
    "\n",
    "f = codecs.open(\"test.mg\", 'w', 'utf-8')\n",
    "f.write(sout)\n",
    "f.close()\n"
   ]
  },
  {
   "cell_type": "markdown",
   "metadata": {},
   "source": [
    "#### Below codes transform a conll style merged .props into a CRF++ style samples."
   ]
  },
  {
   "cell_type": "code",
   "execution_count": 3,
   "metadata": {},
   "outputs": [
    {
     "ename": "FileNotFoundError",
     "evalue": "[Errno 2] No such file or directory: 'trn.mg'",
     "output_type": "error",
     "traceback": [
      "\u001b[1;31m---------------------------------------------------------------------------\u001b[0m",
      "\u001b[1;31mFileNotFoundError\u001b[0m                         Traceback (most recent call last)",
      "\u001b[1;32m<ipython-input-3-b3e9ffa5e2ab>\u001b[0m in \u001b[0;36m<module>\u001b[1;34m()\u001b[0m\n\u001b[1;32m----> 1\u001b[1;33m \u001b[0mf\u001b[0m\u001b[1;33m=\u001b[0m\u001b[0mcodecs\u001b[0m\u001b[1;33m.\u001b[0m\u001b[0mopen\u001b[0m\u001b[1;33m(\u001b[0m\u001b[1;34m\"trn.mg\"\u001b[0m\u001b[1;33m,\u001b[0m\u001b[1;34m\"r\"\u001b[0m\u001b[1;33m,\u001b[0m\u001b[1;34m'utf-8'\u001b[0m\u001b[1;33m)\u001b[0m\u001b[1;33m\u001b[0m\u001b[0m\n\u001b[0m\u001b[0;32m      2\u001b[0m \u001b[0ms\u001b[0m\u001b[1;33m=\u001b[0m\u001b[0mf\u001b[0m\u001b[1;33m.\u001b[0m\u001b[0mread\u001b[0m\u001b[1;33m(\u001b[0m\u001b[1;33m)\u001b[0m\u001b[1;33m\u001b[0m\u001b[0m\n\u001b[0;32m      3\u001b[0m \u001b[0ms_chunks\u001b[0m\u001b[1;33m=\u001b[0m\u001b[1;33m[\u001b[0m\u001b[1;33m[\u001b[0m\u001b[0mr\u001b[0m\u001b[1;33m.\u001b[0m\u001b[0mstrip\u001b[0m\u001b[1;33m(\u001b[0m\u001b[1;33m)\u001b[0m\u001b[1;33m.\u001b[0m\u001b[0msplit\u001b[0m\u001b[1;33m(\u001b[0m\u001b[1;34m'\\t'\u001b[0m\u001b[1;33m)\u001b[0m \u001b[1;32mfor\u001b[0m \u001b[0mr\u001b[0m \u001b[1;32min\u001b[0m \u001b[0mt\u001b[0m\u001b[1;33m.\u001b[0m\u001b[0mstrip\u001b[0m\u001b[1;33m(\u001b[0m\u001b[1;33m)\u001b[0m\u001b[1;33m.\u001b[0m\u001b[0msplit\u001b[0m\u001b[1;33m(\u001b[0m\u001b[1;34m'\\n'\u001b[0m\u001b[1;33m)\u001b[0m\u001b[1;33m]\u001b[0m \u001b[1;32mfor\u001b[0m \u001b[0mt\u001b[0m \u001b[1;32min\u001b[0m \u001b[0ms\u001b[0m\u001b[1;33m.\u001b[0m\u001b[0mstrip\u001b[0m\u001b[1;33m(\u001b[0m\u001b[1;33m)\u001b[0m\u001b[1;33m.\u001b[0m\u001b[0msplit\u001b[0m\u001b[1;33m(\u001b[0m\u001b[1;34m'\\n\\n'\u001b[0m\u001b[1;33m)\u001b[0m\u001b[1;33m]\u001b[0m\u001b[1;33m\u001b[0m\u001b[0m\n",
      "\u001b[1;32m~\\Anaconda3\\lib\\codecs.py\u001b[0m in \u001b[0;36mopen\u001b[1;34m(filename, mode, encoding, errors, buffering)\u001b[0m\n\u001b[0;32m    893\u001b[0m         \u001b[1;31m# Force opening of the file in binary mode\u001b[0m\u001b[1;33m\u001b[0m\u001b[1;33m\u001b[0m\u001b[0m\n\u001b[0;32m    894\u001b[0m         \u001b[0mmode\u001b[0m \u001b[1;33m=\u001b[0m \u001b[0mmode\u001b[0m \u001b[1;33m+\u001b[0m \u001b[1;34m'b'\u001b[0m\u001b[1;33m\u001b[0m\u001b[0m\n\u001b[1;32m--> 895\u001b[1;33m     \u001b[0mfile\u001b[0m \u001b[1;33m=\u001b[0m \u001b[0mbuiltins\u001b[0m\u001b[1;33m.\u001b[0m\u001b[0mopen\u001b[0m\u001b[1;33m(\u001b[0m\u001b[0mfilename\u001b[0m\u001b[1;33m,\u001b[0m \u001b[0mmode\u001b[0m\u001b[1;33m,\u001b[0m \u001b[0mbuffering\u001b[0m\u001b[1;33m)\u001b[0m\u001b[1;33m\u001b[0m\u001b[0m\n\u001b[0m\u001b[0;32m    896\u001b[0m     \u001b[1;32mif\u001b[0m \u001b[0mencoding\u001b[0m \u001b[1;32mis\u001b[0m \u001b[1;32mNone\u001b[0m\u001b[1;33m:\u001b[0m\u001b[1;33m\u001b[0m\u001b[0m\n\u001b[0;32m    897\u001b[0m         \u001b[1;32mreturn\u001b[0m \u001b[0mfile\u001b[0m\u001b[1;33m\u001b[0m\u001b[0m\n",
      "\u001b[1;31mFileNotFoundError\u001b[0m: [Errno 2] No such file or directory: 'trn.mg'"
     ]
    }
   ],
   "source": [
    "f=codecs.open(\"test.mg\",\"r\",'utf-8')\n",
    "s=f.read()\n",
    "s_chunks=[[r.strip().split('\\t') for r in t.strip().split('\\n')] for t in s.strip().split('\\n\\n')]"
   ]
  },
  {
   "cell_type": "code",
   "execution_count": 12,
   "metadata": {
    "collapsed": true
   },
   "outputs": [],
   "source": [
    "def fetch_label(s, current_label):\n",
    "    ts=re.search(u'\\((.*)\\*(.*)\\)', s)\n",
    "    tb=re.search(u'\\((.*)\\*', s)\n",
    "    te=re.search(u'\\*(.*)\\)', s)\n",
    "    if ts is not None:\n",
    "        return 'S-' + ts.group(1), 'O'\n",
    "    if tb is not None:\n",
    "        return 'B-' + tb.group(1), tb.group(1)\n",
    "    if te is not None:\n",
    "        return 'E-' + current_label, 'O'\n",
    "    if current_label == 'O':\n",
    "        return 'O', 'O'\n",
    "    return 'I-' + current_label, current_label"
   ]
  },
  {
   "cell_type": "code",
   "execution_count": 15,
   "metadata": {
    "collapsed": true
   },
   "outputs": [],
   "source": [
    "samples = []\n",
    "for i_sent, sent in enumerate(s_chunks):\n",
    "    pos_verbs = []\n",
    "    postag_verbs = []\n",
    "    word_verbs = []\n",
    "    for idx, m in enumerate(sent):\n",
    "        if not m[2] == '-':\n",
    "            pos_verbs += [idx]\n",
    "            postag_verbs += [m[1]]\n",
    "            word_verbs += [m[2]]\n",
    "    n_verbs = len(pos_verbs)\n",
    "    for i_verb in range(n_verbs):\n",
    "        pos_relv = -pos_verbs[i_verb]\n",
    "        sample_sent = []\n",
    "        current_target = 'O'\n",
    "        for s in sent:\n",
    "            sample_token = s[0:2]\n",
    "            sample_token += [postag_verbs[i_verb]]\n",
    "            sample_token += [word_verbs[i_verb]]\n",
    "            sample_token += [str(pos_relv)]\n",
    "            pos_relv += 1\n",
    "            return_label, current_target = fetch_label(s[3 + i_verb], current_target)\n",
    "            sample_token += [return_label]\n",
    "            sample_sent += [sample_token]\n",
    "        samples += [sample_sent]\n",
    "    "
   ]
  },
  {
   "cell_type": "code",
   "execution_count": 16,
   "metadata": {
    "collapsed": true
   },
   "outputs": [],
   "source": [
    "s_out = ''\n",
    "for sent in samples:\n",
    "    s_sent = []\n",
    "    for token in sent:\n",
    "        s_sent += ['\\t'.join(token)]\n",
    "    s_out += '\\n'.join(s_sent)\n",
    "    s_out += '\\n\\n'\n",
    "f = codecs.open('trn2_withverb.samples','w','utf-8')\n",
    "f.write(s_out)\n",
    "f.close()"
   ]
  },
  {
   "cell_type": "markdown",
   "metadata": {},
   "source": [
    "#### Below codes transform a .text file into a for-parser file"
   ]
  },
  {
   "cell_type": "code",
   "execution_count": 15,
   "metadata": {
    "collapsed": true
   },
   "outputs": [],
   "source": [
    "f=codecs.open(\"trn.text\",\"r\",'utf-8')\n",
    "s=f.read()\n",
    "s_chunks=[[r.strip().split('\\t') for r in t.strip().split('\\n')] for t in s.strip().split('\\n\\n')]"
   ]
  },
  {
   "cell_type": "code",
   "execution_count": 16,
   "metadata": {
    "collapsed": true
   },
   "outputs": [],
   "source": [
    "s_out = []\n",
    "for sent in s_chunks:\n",
    "    s_sent = []\n",
    "    for tok in sent:\n",
    "        s_sent += [tok[0]]\n",
    "    s_out += [' '.join(s_sent)]\n",
    "f = codecs.open(\"trn.forparser\",\"w\",\"utf-8\")\n",
    "f.write(\"\\n\".join(s_out))\n",
    "f.close()"
   ]
  },
  {
   "cell_type": "code",
   "execution_count": 37,
   "metadata": {
    "collapsed": true
   },
   "outputs": [],
   "source": [
    "a='U0:%x[-2,1]/%x[2,1]'"
   ]
  },
  {
   "cell_type": "code",
   "execution_count": 42,
   "metadata": {
    "collapsed": true
   },
   "outputs": [],
   "source": [
    "t=re.findall('(%x\\[(?P<row>[-]?\\d),(?P<col>\\d)\\])',a)"
   ]
  },
  {
   "cell_type": "code",
   "execution_count": 43,
   "metadata": {},
   "outputs": [
    {
     "data": {
      "text/plain": [
       "[('%x[-2,1]', '-2', '1'), ('%x[2,1]', '2', '1')]"
      ]
     },
     "execution_count": 43,
     "metadata": {},
     "output_type": "execute_result"
    }
   ],
   "source": [
    "t"
   ]
  },
  {
   "cell_type": "code",
   "execution_count": 18,
   "metadata": {},
   "outputs": [
    {
     "ename": "IndexError",
     "evalue": "no such group",
     "output_type": "error",
     "traceback": [
      "\u001b[1;31m---------------------------------------------------------------------------\u001b[0m",
      "\u001b[1;31mIndexError\u001b[0m                                Traceback (most recent call last)",
      "\u001b[1;32m<ipython-input-18-e78971f7e6b7>\u001b[0m in \u001b[0;36m<module>\u001b[1;34m()\u001b[0m\n\u001b[1;32m----> 1\u001b[1;33m \u001b[0mt\u001b[0m\u001b[1;33m.\u001b[0m\u001b[0mgroup\u001b[0m\u001b[1;33m(\u001b[0m\u001b[1;36m4\u001b[0m\u001b[1;33m)\u001b[0m\u001b[1;33m\u001b[0m\u001b[0m\n\u001b[0m",
      "\u001b[1;31mIndexError\u001b[0m: no such group"
     ]
    }
   ],
   "source": [
    "t.group(4)"
   ]
  },
  {
   "cell_type": "code",
   "execution_count": null,
   "metadata": {
    "collapsed": true
   },
   "outputs": [],
   "source": []
  }
 ],
 "metadata": {
  "kernelspec": {
   "display_name": "Python 3",
   "language": "python",
   "name": "python3"
  },
  "language_info": {
   "codemirror_mode": {
    "name": "ipython",
    "version": 3
   },
   "file_extension": ".py",
   "mimetype": "text/x-python",
   "name": "python",
   "nbconvert_exporter": "python",
   "pygments_lexer": "ipython3",
   "version": "3.6.3"
  }
 },
 "nbformat": 4,
 "nbformat_minor": 2
}
